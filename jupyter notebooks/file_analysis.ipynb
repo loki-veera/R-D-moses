{
 "cells": [
  {
   "cell_type": "code",
   "execution_count": 1,
   "metadata": {},
   "outputs": [],
   "source": [
    "import matplotlib.pyplot as plt\n",
    "import numpy as np\n",
    "import os\n",
    "import pandas as pd"
   ]
  },
  {
   "cell_type": "code",
   "execution_count": 219,
   "metadata": {},
   "outputs": [],
   "source": [
    "files = sorted(os.listdir('/media/lokesh/LOKII/moses/MOSES Messdaten für Analyse/Export/SK/'))\n",
    "file_no = len(files)"
   ]
  },
  {
   "cell_type": "code",
   "execution_count": 227,
   "metadata": {},
   "outputs": [
    {
     "name": "stdout",
     "output_type": "stream",
     "text": [
      "14777\n"
     ]
    }
   ],
   "source": [
    "back_up = files\n",
    "test_files = files[:len(files)//2]\n",
    "print(len(test_files))"
   ]
  },
  {
   "cell_type": "code",
   "execution_count": 228,
   "metadata": {
    "scrolled": false
   },
   "outputs": [
    {
     "ename": "ValueError",
     "evalue": "invalid literal for int() with base 10: '-SK'",
     "output_type": "error",
     "traceback": [
      "\u001b[0;31m---------------------------------------------------------------------------\u001b[0m",
      "\u001b[0;31mValueError\u001b[0m                                Traceback (most recent call last)",
      "\u001b[0;32m<ipython-input-228-fabcea904c17>\u001b[0m in \u001b[0;36m<module>\u001b[0;34m\u001b[0m\n\u001b[1;32m      9\u001b[0m         \u001b[0msplit\u001b[0m \u001b[0;34m=\u001b[0m \u001b[0mi\u001b[0m\u001b[0;34m.\u001b[0m\u001b[0msplit\u001b[0m\u001b[0;34m(\u001b[0m\u001b[0;34m\"_\"\u001b[0m\u001b[0;34m)\u001b[0m\u001b[0;34m\u001b[0m\u001b[0m\n\u001b[1;32m     10\u001b[0m         \u001b[0msplit\u001b[0m \u001b[0;34m=\u001b[0m \u001b[0msplit\u001b[0m\u001b[0;34m[\u001b[0m\u001b[0;36m2\u001b[0m\u001b[0;34m]\u001b[0m\u001b[0;34m.\u001b[0m\u001b[0msplit\u001b[0m\u001b[0;34m(\u001b[0m\u001b[0;34m\".\"\u001b[0m\u001b[0;34m)\u001b[0m\u001b[0;34m\u001b[0m\u001b[0m\n\u001b[0;32m---> 11\u001b[0;31m         \u001b[0msc\u001b[0m \u001b[0;34m=\u001b[0m \u001b[0mint\u001b[0m\u001b[0;34m(\u001b[0m\u001b[0msplit\u001b[0m\u001b[0;34m[\u001b[0m\u001b[0;36m0\u001b[0m\u001b[0;34m]\u001b[0m\u001b[0;34m[\u001b[0m\u001b[0;36m2\u001b[0m\u001b[0;34m:\u001b[0m\u001b[0;36m5\u001b[0m\u001b[0;34m]\u001b[0m\u001b[0;34m)\u001b[0m\u001b[0;34m\u001b[0m\u001b[0m\n\u001b[0m\u001b[1;32m     12\u001b[0m     \u001b[0;32mif\u001b[0m \u001b[0mlen\u001b[0m\u001b[0;34m(\u001b[0m\u001b[0mstr\u001b[0m\u001b[0;34m(\u001b[0m\u001b[0msc\u001b[0m\u001b[0;34m)\u001b[0m\u001b[0;34m)\u001b[0m \u001b[0;34m==\u001b[0m \u001b[0;36m1\u001b[0m\u001b[0;34m:\u001b[0m\u001b[0;34m\u001b[0m\u001b[0m\n\u001b[1;32m     13\u001b[0m         \u001b[0mtext_old\u001b[0m \u001b[0;34m=\u001b[0m \u001b[0;34m\"SK00\"\u001b[0m\u001b[0;34m+\u001b[0m\u001b[0mstr\u001b[0m\u001b[0;34m(\u001b[0m\u001b[0msc\u001b[0m\u001b[0;34m)\u001b[0m\u001b[0;34m\u001b[0m\u001b[0m\n",
      "\u001b[0;31mValueError\u001b[0m: invalid literal for int() with base 10: '-SK'"
     ]
    }
   ],
   "source": [
    "folder_count = []\n",
    "new_files=[]\n",
    "files_co = []\n",
    "scp = 1\n",
    "fc = 1\n",
    "for i in test_files:\n",
    "    if scp == 1:\n",
    "        scp += 1\n",
    "        split = i.split(\"_\")\n",
    "        split = split[2].split(\".\")\n",
    "        try:\n",
    "            sc = int(split[0][2:5])\n",
    "        except:\n",
    "            print(split)\n",
    "    if len(str(sc)) == 1:\n",
    "        text_old = \"SK00\"+str(sc)\n",
    "        text_new = \"SK00\"+str(sc+1)\n",
    "    elif len(str(sc)) == 2:\n",
    "        text_old = \"SK0\"+str(sc)\n",
    "        text_new = \"SK0\"+str(sc+1)\n",
    "    elif len(str(sc)) == 3:\n",
    "        text_old = \"SK\"+str(sc)\n",
    "        text_new = \"SK\"+str(sc+1)\n",
    "    if i not in new_files:\n",
    "        new_files.append(i)\n",
    "    search_file = i.replace(text_old, text_new)\n",
    "    if search_file in test_files and search_file not in new_files:\n",
    "        fc += 1\n",
    "        new_files.append(search_file)\n",
    "    else:\n",
    "        test_files = [i for i in test_files if i not in new_files]\n",
    "        files_co.append(new_files)\n",
    "        new_files = []\n",
    "        folder_count.append(fc)\n",
    "        fc=1\n",
    "        scp=1\n",
    "    sc += 1\n",
    "print(folder_count)"
   ]
  }
 ],
 "metadata": {
  "kernelspec": {
   "display_name": "Python 3",
   "language": "python",
   "name": "python3"
  },
  "language_info": {
   "codemirror_mode": {
    "name": "ipython",
    "version": 3
   },
   "file_extension": ".py",
   "mimetype": "text/x-python",
   "name": "python",
   "nbconvert_exporter": "python",
   "pygments_lexer": "ipython3",
   "version": "3.7.4"
  }
 },
 "nbformat": 4,
 "nbformat_minor": 2
}
