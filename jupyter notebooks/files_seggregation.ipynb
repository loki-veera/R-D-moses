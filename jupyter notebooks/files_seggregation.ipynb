{
 "cells": [
  {
   "cell_type": "code",
   "execution_count": 1,
   "metadata": {},
   "outputs": [],
   "source": [
    "import os\n",
    "import pandas as pd\n",
    "import time\n",
    "from joblib import Parallel, delayed\n",
    "from IPython.display import clear_output\n",
    "import multiprocessing as mp"
   ]
  },
  {
   "cell_type": "code",
   "execution_count": 2,
   "metadata": {},
   "outputs": [],
   "source": [
    "from numba import jit"
   ]
  },
  {
   "cell_type": "code",
   "execution_count": 3,
   "metadata": {},
   "outputs": [
    {
     "name": "stdout",
     "output_type": "stream",
     "text": [
      "27928\n"
     ]
    }
   ],
   "source": [
    "# path = os.getcwd()\n",
    "# path += '/data/1669411-4456930_V01'\n",
    "path = '/media/lokesh/LOKII/moses/MOSES Messdaten für Analyse/Export/SK/'\n",
    "files = sorted(os.listdir(path))\n",
    "print(len(files))"
   ]
  },
  {
   "cell_type": "code",
   "execution_count": 4,
   "metadata": {
    "scrolled": false
   },
   "outputs": [
    {
     "name": "stdout",
     "output_type": "stream",
     "text": [
      "27928\n"
     ]
    }
   ],
   "source": [
    "files_new = files\n",
    "print(len(files_new))\n",
    "# file_list = []\n",
    "# file_list.append(files_new[:5000])\n",
    "# file_list.append(files_new[5000:10000])\n",
    "# file_list.append(files_new[10000: 15000])\n",
    "# file_list.append(files_new[15000: 20000])\n",
    "# file_list.append(files_new[20000:])\n",
    "# print(len(file_list))"
   ]
  },
  {
   "cell_type": "code",
   "execution_count": 5,
   "metadata": {},
   "outputs": [],
   "source": [
    "@jit(nopython = False)\n",
    "def calc(files_new):\n",
    "    df_list = []\n",
    "    print(\"print\")\n",
    "    s = time.time()\n",
    "    for idx,i in enumerate(files_new):\n",
    "        f_path = path + '/'+ i\n",
    "#         try:\n",
    "#         clear_ouptut()\n",
    "        if idx%500 == 0:\n",
    "            print(idx)\n",
    "        vap = pd.read_csv(f_path, sep='\\t', nrows = 39, header = None).fillna(0)\n",
    "        list_val = tuple(vap[1].tolist())\n",
    "    #     if list_val not in df_list:\n",
    "        df_list.append(list_val)\n",
    "    e = time.time()\n",
    "    print(e-s)\n",
    "    print(\"Length: \",len(set(df_list)))\n",
    "    return len(set(df_list))"
   ]
  },
  {
   "cell_type": "code",
   "execution_count": 6,
   "metadata": {
    "scrolled": true
   },
   "outputs": [
    {
     "name": "stderr",
     "output_type": "stream",
     "text": [
      "<ipython-input-5-e4a4cec8ee71>:1: NumbaWarning: \n",
      "Compilation is falling back to object mode WITH looplifting enabled because Function \"calc\" failed type inference due to: Unknown attribute 'time' of type Module(<module 'time' (built-in)>)\n",
      "\n",
      "File \"<ipython-input-5-e4a4cec8ee71>\", line 5:\n",
      "def calc(files_new):\n",
      "    <source elided>\n",
      "    print(\"print\")\n",
      "    s = time.time()\n",
      "    ^\n",
      "\n",
      "[1] During: typing of get attribute at <ipython-input-5-e4a4cec8ee71> (5)\n",
      "\n",
      "File \"<ipython-input-5-e4a4cec8ee71>\", line 5:\n",
      "def calc(files_new):\n",
      "    <source elided>\n",
      "    print(\"print\")\n",
      "    s = time.time()\n",
      "    ^\n",
      "\n",
      "  @jit(nopython = False)\n",
      "<ipython-input-5-e4a4cec8ee71>:1: NumbaWarning: \n",
      "Compilation is falling back to object mode WITHOUT looplifting enabled because Function \"calc\" failed type inference due to: cannot determine Numba type of <class 'numba.dispatcher.LiftedLoop'>\n",
      "\n",
      "File \"<ipython-input-5-e4a4cec8ee71>\", line 6:\n",
      "def calc(files_new):\n",
      "    <source elided>\n",
      "    s = time.time()\n",
      "    for idx,i in enumerate(files_new):\n",
      "    ^\n",
      "\n",
      "  @jit(nopython = False)\n",
      "/usr/local/lib/python3.5/dist-packages/numba/object_mode_passes.py:178: NumbaWarning: Function \"calc\" was compiled in object mode without forceobj=True, but has lifted loops.\n",
      "\n",
      "File \"<ipython-input-5-e4a4cec8ee71>\", line 2:\n",
      "@jit(nopython = False)\n",
      "def calc(files_new):\n",
      "^\n",
      "\n",
      "  state.func_ir.loc))\n",
      "/usr/local/lib/python3.5/dist-packages/numba/object_mode_passes.py:187: NumbaDeprecationWarning: \n",
      "Fall-back from the nopython compilation path to the object mode compilation path has been detected, this is deprecated behaviour.\n",
      "\n",
      "For more information visit http://numba.pydata.org/numba-doc/latest/reference/deprecation.html#deprecation-of-object-mode-fall-back-behaviour-when-using-jit\n",
      "\n",
      "File \"<ipython-input-5-e4a4cec8ee71>\", line 2:\n",
      "@jit(nopython = False)\n",
      "def calc(files_new):\n",
      "^\n",
      "\n",
      "  warnings.warn(errors.NumbaDeprecationWarning(msg, state.func_ir.loc))\n"
     ]
    },
    {
     "name": "stdout",
     "output_type": "stream",
     "text": [
      "print\n"
     ]
    },
    {
     "name": "stderr",
     "output_type": "stream",
     "text": [
      "<ipython-input-5-e4a4cec8ee71>:1: NumbaWarning: \n",
      "Compilation is falling back to object mode WITHOUT looplifting enabled because Function \"calc\" failed type inference due to: non-precise type pyobject\n",
      "[1] During: typing of argument at <ipython-input-5-e4a4cec8ee71> (6)\n",
      "\n",
      "File \"<ipython-input-5-e4a4cec8ee71>\", line 6:\n",
      "def calc(files_new):\n",
      "    <source elided>\n",
      "    s = time.time()\n",
      "    for idx,i in enumerate(files_new):\n",
      "    ^\n",
      "\n",
      "  @jit(nopython = False)\n",
      "/usr/local/lib/python3.5/dist-packages/numba/object_mode_passes.py:178: NumbaWarning: Function \"calc\" was compiled in object mode without forceobj=True.\n",
      "\n",
      "File \"<ipython-input-5-e4a4cec8ee71>\", line 6:\n",
      "def calc(files_new):\n",
      "    <source elided>\n",
      "    s = time.time()\n",
      "    for idx,i in enumerate(files_new):\n",
      "    ^\n",
      "\n",
      "  state.func_ir.loc))\n",
      "/usr/local/lib/python3.5/dist-packages/numba/object_mode_passes.py:187: NumbaDeprecationWarning: \n",
      "Fall-back from the nopython compilation path to the object mode compilation path has been detected, this is deprecated behaviour.\n",
      "\n",
      "For more information visit http://numba.pydata.org/numba-doc/latest/reference/deprecation.html#deprecation-of-object-mode-fall-back-behaviour-when-using-jit\n",
      "\n",
      "File \"<ipython-input-5-e4a4cec8ee71>\", line 6:\n",
      "def calc(files_new):\n",
      "    <source elided>\n",
      "    s = time.time()\n",
      "    for idx,i in enumerate(files_new):\n",
      "    ^\n",
      "\n",
      "  warnings.warn(errors.NumbaDeprecationWarning(msg, state.func_ir.loc))\n"
     ]
    },
    {
     "name": "stdout",
     "output_type": "stream",
     "text": [
      "0\n",
      "500\n",
      "1000\n",
      "1500\n",
      "2000\n",
      "2500\n",
      "3000\n",
      "3500\n",
      "4000\n",
      "4500\n",
      "5000\n",
      "5500\n",
      "6000\n",
      "6500\n",
      "7000\n",
      "7500\n",
      "8000\n",
      "8500\n",
      "9000\n",
      "9500\n",
      "10000\n",
      "10500\n",
      "11000\n",
      "11500\n",
      "12000\n",
      "12500\n",
      "13000\n",
      "13500\n",
      "14000\n",
      "14500\n",
      "15000\n",
      "15500\n",
      "16000\n",
      "16500\n",
      "17000\n",
      "17500\n",
      "18000\n",
      "18500\n",
      "19000\n",
      "19500\n",
      "20000\n",
      "20500\n",
      "21000\n",
      "21500\n",
      "22000\n",
      "22500\n",
      "23000\n",
      "23500\n",
      "24000\n",
      "24500\n",
      "25000\n",
      "25500\n",
      "26000\n",
      "26500\n",
      "27000\n",
      "27500\n",
      "714.9470453262329\n",
      "Length:  7597\n"
     ]
    },
    {
     "data": {
      "text/plain": [
       "7597"
      ]
     },
     "execution_count": 6,
     "metadata": {},
     "output_type": "execute_result"
    }
   ],
   "source": [
    "# Parallel(n_jobs=7)(delayed(calc(i))for i in file_list)\n",
    "# pool = mp.Pool(mp.cpu_count())\n",
    "# result_objects = [pool.apply_async(calc, args=(i, row)) for i, row in enumerate(file_list)]\n",
    "\n",
    "# # result_objects is a list of pool.ApplyResult objects\n",
    "# results = [r.get()[1] for r in result_objects]\n",
    "\n",
    "# pool.close()\n",
    "# pool.join()\n",
    "calc(files_new)"
   ]
  }
 ],
 "metadata": {
  "kernelspec": {
   "display_name": "Python 3",
   "language": "python",
   "name": "python3"
  },
  "language_info": {
   "codemirror_mode": {
    "name": "ipython",
    "version": 3
   },
   "file_extension": ".py",
   "mimetype": "text/x-python",
   "name": "python",
   "nbconvert_exporter": "python",
   "pygments_lexer": "ipython3",
   "version": "3.5.2"
  }
 },
 "nbformat": 4,
 "nbformat_minor": 2
}
